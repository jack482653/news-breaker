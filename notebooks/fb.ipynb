{
 "cells": [
  {
   "cell_type": "code",
   "execution_count": 1,
   "id": "3376f1db-a13f-4338-b7e9-ce620361ad5c",
   "metadata": {},
   "outputs": [],
   "source": [
    "from dotenv import load_dotenv\n",
    "import os\n",
    "\n",
    "load_dotenv()\n",
    "fb_email = os.environ[\"FB_EMAIL\"]\n",
    "fb_password = os.environ[\"FB_PASSWORD\"]"
   ]
  },
  {
   "cell_type": "code",
   "execution_count": 2,
   "id": "ab4a7391-9eca-40ee-be2c-e136bfb9340c",
   "metadata": {
    "tags": []
   },
   "outputs": [
    {
     "data": {
      "text/plain": [
       "<Response url='https://www.facebook.com/ETtoday' request=<Request url='https://www.facebook.com/ETtoday' method='GET'>>"
      ]
     },
     "execution_count": 2,
     "metadata": {},
     "output_type": "execute_result"
    }
   ],
   "source": [
    "from news_breaker.utils.browser import Browser\n",
    "\n",
    "browser = Browser(headless=False)\n",
    "await browser.init()\n",
    "page = await browser.get_browser().new_page()\n",
    "\n",
    "# Navigate to Facebook login page\n",
    "await page.goto(\"https://www.facebook.com/login\")\n",
    "\n",
    "# Fill in login form and submit\n",
    "await page.fill(\"#email\", fb_email)\n",
    "await page.fill(\"#pass\", fb_password)\n",
    "await page.click(\"#loginbutton\")\n",
    "\n",
    "# Wait for login to complete and navigate to page\n",
    "await page.wait_for_selector(\"[aria-label='Messenger']\")\n",
    "await page.goto(\"https://www.facebook.com/ETtoday\")"
   ]
  },
  {
   "cell_type": "code",
   "execution_count": 34,
   "id": "928c0c4f-c7f0-4a8f-888e-88a7623fdf41",
   "metadata": {
    "tags": []
   },
   "outputs": [
    {
     "data": {
      "text/plain": [
       "[<Locator frame=<Frame name= url='https://www.facebook.com/ETtoday'> selector='internal:role=feed >> nth=0'>,\n",
       " <Locator frame=<Frame name= url='https://www.facebook.com/ETtoday'> selector='internal:role=feed >> nth=1'>]"
      ]
     },
     "execution_count": 34,
     "metadata": {},
     "output_type": "execute_result"
    }
   ],
   "source": [
    "feeds = await page.get_by_role(\"feed\").all()\n",
    "\n",
    "feeds"
   ]
  },
  {
   "cell_type": "code",
   "execution_count": 35,
   "id": "5dc8f8ce-20b6-40a0-8239-f8c57d2d519d",
   "metadata": {
    "tags": []
   },
   "outputs": [
    {
     "data": {
      "text/plain": [
       "[<Locator frame=<Frame name= url='https://www.facebook.com/ETtoday'> selector='internal:role=feed >> nth=1 >> internal:role=article >> nth=0'>,\n",
       " <Locator frame=<Frame name= url='https://www.facebook.com/ETtoday'> selector='internal:role=feed >> nth=1 >> internal:role=article >> nth=1'>,\n",
       " <Locator frame=<Frame name= url='https://www.facebook.com/ETtoday'> selector='internal:role=feed >> nth=1 >> internal:role=article >> nth=2'>,\n",
       " <Locator frame=<Frame name= url='https://www.facebook.com/ETtoday'> selector='internal:role=feed >> nth=1 >> internal:role=article >> nth=3'>,\n",
       " <Locator frame=<Frame name= url='https://www.facebook.com/ETtoday'> selector='internal:role=feed >> nth=1 >> internal:role=article >> nth=4'>,\n",
       " <Locator frame=<Frame name= url='https://www.facebook.com/ETtoday'> selector='internal:role=feed >> nth=1 >> internal:role=article >> nth=5'>,\n",
       " <Locator frame=<Frame name= url='https://www.facebook.com/ETtoday'> selector='internal:role=feed >> nth=1 >> internal:role=article >> nth=6'>,\n",
       " <Locator frame=<Frame name= url='https://www.facebook.com/ETtoday'> selector='internal:role=feed >> nth=1 >> internal:role=article >> nth=7'>]"
      ]
     },
     "execution_count": 35,
     "metadata": {},
     "output_type": "execute_result"
    }
   ],
   "source": [
    "posts = await feeds[1].get_by_role(\"article\").all()\n",
    "\n",
    "posts"
   ]
  },
  {
   "cell_type": "code",
   "execution_count": 3,
   "id": "a621b6fe-b6e5-4cc1-aec8-5a16a7eaac59",
   "metadata": {
    "tags": []
   },
   "outputs": [],
   "source": [
    "post_links = await page.locator(\"a[role='link'][href^='https://www.facebook.com/ETtoday/posts/']\").all()\n",
    "\n",
    "post_link = await post_links[0].get_attribute(\"href\")"
   ]
  },
  {
   "cell_type": "code",
   "execution_count": 37,
   "id": "757d1702-087e-4c3b-a98e-618011ed2073",
   "metadata": {
    "tags": []
   },
   "outputs": [
    {
     "data": {
      "text/plain": [
       "<Response url='https://www.facebook.com/ETtoday/posts/pfbid0FD8yvn2oQkHhuvKQD1dQtYYfhmcPDDMra4N3uFM8e7AjKa5Q5NCpJxQhZG5h2ZU5l?__cft__[0]=AZVHHy6iRG0A-i2MuQLRKoHr6CrmFHKEbecTd-nTkBhITUTPMFABvTZY2AVv6K_FjfjdRpDa7zb1wlhP9et6FS8pY134eI6GL5zsbJ7oDtkAPN-1Cq1VG1n9rRT1HUr8zf1oPzeoXkT-1zOhqhuAMGbi07MDo2-9K-zZR3OW40-rgw&__tn__=%2CO%2CP-R' request=<Request url='https://www.facebook.com/ETtoday/posts/pfbid0FD8yvn2oQkHhuvKQD1dQtYYfhmcPDDMra4N3uFM8e7AjKa5Q5NCpJxQhZG5h2ZU5l?__cft__[0]=AZVHHy6iRG0A-i2MuQLRKoHr6CrmFHKEbecTd-nTkBhITUTPMFABvTZY2AVv6K_FjfjdRpDa7zb1wlhP9et6FS8pY134eI6GL5zsbJ7oDtkAPN-1Cq1VG1n9rRT1HUr8zf1oPzeoXkT-1zOhqhuAMGbi07MDo2-9K-zZR3OW40-rgw&__tn__=%2CO%2CP-R' method='GET'>>"
      ]
     },
     "execution_count": 37,
     "metadata": {},
     "output_type": "execute_result"
    }
   ],
   "source": [
    "await page.goto(post_link)"
   ]
  },
  {
   "cell_type": "code",
   "execution_count": 41,
   "id": "7e6ac843-1d9a-4867-9ca7-b52b98c9d209",
   "metadata": {
    "tags": []
   },
   "outputs": [
    {
     "data": {
      "text/plain": [
       "[<Locator frame=<Frame name= url='https://www.facebook.com/ETtoday/posts/pfbid0FD8yvn2oQkHhuvKQD1dQtYYfhmcPDDMra4N3uFM8e7AjKa5Q5NCpJxQhZG5h2ZU5l'> selector='internal:role=article >> nth=0'>,\n",
       " <Locator frame=<Frame name= url='https://www.facebook.com/ETtoday/posts/pfbid0FD8yvn2oQkHhuvKQD1dQtYYfhmcPDDMra4N3uFM8e7AjKa5Q5NCpJxQhZG5h2ZU5l'> selector='internal:role=article >> nth=1'>,\n",
       " <Locator frame=<Frame name= url='https://www.facebook.com/ETtoday/posts/pfbid0FD8yvn2oQkHhuvKQD1dQtYYfhmcPDDMra4N3uFM8e7AjKa5Q5NCpJxQhZG5h2ZU5l'> selector='internal:role=article >> nth=2'>,\n",
       " <Locator frame=<Frame name= url='https://www.facebook.com/ETtoday/posts/pfbid0FD8yvn2oQkHhuvKQD1dQtYYfhmcPDDMra4N3uFM8e7AjKa5Q5NCpJxQhZG5h2ZU5l'> selector='internal:role=article >> nth=3'>,\n",
       " <Locator frame=<Frame name= url='https://www.facebook.com/ETtoday/posts/pfbid0FD8yvn2oQkHhuvKQD1dQtYYfhmcPDDMra4N3uFM8e7AjKa5Q5NCpJxQhZG5h2ZU5l'> selector='internal:role=article >> nth=4'>,\n",
       " <Locator frame=<Frame name= url='https://www.facebook.com/ETtoday/posts/pfbid0FD8yvn2oQkHhuvKQD1dQtYYfhmcPDDMra4N3uFM8e7AjKa5Q5NCpJxQhZG5h2ZU5l'> selector='internal:role=article >> nth=5'>,\n",
       " <Locator frame=<Frame name= url='https://www.facebook.com/ETtoday/posts/pfbid0FD8yvn2oQkHhuvKQD1dQtYYfhmcPDDMra4N3uFM8e7AjKa5Q5NCpJxQhZG5h2ZU5l'> selector='internal:role=article >> nth=6'>,\n",
       " <Locator frame=<Frame name= url='https://www.facebook.com/ETtoday/posts/pfbid0FD8yvn2oQkHhuvKQD1dQtYYfhmcPDDMra4N3uFM8e7AjKa5Q5NCpJxQhZG5h2ZU5l'> selector='internal:role=article >> nth=7'>,\n",
       " <Locator frame=<Frame name= url='https://www.facebook.com/ETtoday/posts/pfbid0FD8yvn2oQkHhuvKQD1dQtYYfhmcPDDMra4N3uFM8e7AjKa5Q5NCpJxQhZG5h2ZU5l'> selector='internal:role=article >> nth=8'>,\n",
       " <Locator frame=<Frame name= url='https://www.facebook.com/ETtoday/posts/pfbid0FD8yvn2oQkHhuvKQD1dQtYYfhmcPDDMra4N3uFM8e7AjKa5Q5NCpJxQhZG5h2ZU5l'> selector='internal:role=article >> nth=9'>,\n",
       " <Locator frame=<Frame name= url='https://www.facebook.com/ETtoday/posts/pfbid0FD8yvn2oQkHhuvKQD1dQtYYfhmcPDDMra4N3uFM8e7AjKa5Q5NCpJxQhZG5h2ZU5l'> selector='internal:role=article >> nth=10'>,\n",
       " <Locator frame=<Frame name= url='https://www.facebook.com/ETtoday/posts/pfbid0FD8yvn2oQkHhuvKQD1dQtYYfhmcPDDMra4N3uFM8e7AjKa5Q5NCpJxQhZG5h2ZU5l'> selector='internal:role=article >> nth=11'>]"
      ]
     },
     "execution_count": 41,
     "metadata": {},
     "output_type": "execute_result"
    }
   ],
   "source": [
    "detail_posts = await page.get_by_role(\"article\").all()\n",
    "\n",
    "detail_posts"
   ]
  },
  {
   "cell_type": "code",
   "execution_count": 42,
   "id": "3866c655-fd5b-48b7-a00b-361d90f877db",
   "metadata": {
    "tags": []
   },
   "outputs": [
    {
     "data": {
      "text/plain": [
       "'https://star.ettoday.net/news/2495800?from=fb_et_news_comment&fbclid=IwAR3EwZRSUKawGNufv8mtZmHQK_OqHrxn4GZ5ILWFZHHba04QdyA53drsyKg'"
      ]
     },
     "execution_count": 42,
     "metadata": {},
     "output_type": "execute_result"
    }
   ],
   "source": [
    "# url = await posts[0].locator(\"a[role='link'][href*='ettoday.net']\").first().get_attribute(\"href\")\n",
    "\n",
    "# url = await posts[0].locator(\"a[role='link'][href*='ettoday.net/news']\").get_attribute(\"href\")\n",
    "\n",
    "# url\n",
    "url = None\n",
    "try:\n",
    "    urls = await detail_posts[0].locator(\"a[role='link'][href*='ettoday.net/news']\").all()\n",
    "    url = await urls[0].get_attribute(\"href\")\n",
    "except Exception as e:\n",
    "    print(e)\n",
    "\n",
    "url"
   ]
  },
  {
   "cell_type": "code",
   "execution_count": 43,
   "id": "5446c542-8abf-4a79-b493-5e97b39cd456",
   "metadata": {
    "tags": []
   },
   "outputs": [
    {
     "data": {
      "text/plain": [
       "'https://star.ettoday.net/news/2495800?from=fb_et_news_comment&fbclid=IwAR3EwZRSUKawGNufv8mtZmHQK_OqHrxn4GZ5ILWFZHHba04QdyA53drsyKg'"
      ]
     },
     "execution_count": 43,
     "metadata": {},
     "output_type": "execute_result"
    }
   ],
   "source": [
    "if not url:\n",
    "    url = await posts[0].locator(\"a[role='link'][href*='ettoday.net/news']\").get_attribute(\"href\")\n",
    "\n",
    "url"
   ]
  },
  {
   "cell_type": "code",
   "execution_count": 44,
   "id": "3205e5f7-2a37-4ce2-8992-07e90ffcae4a",
   "metadata": {
    "tags": []
   },
   "outputs": [
    {
     "name": "stdout",
     "output_type": "stream",
     "text": [
      "[2023-05-09 23:52:26,169] [INFO] [ArticleSummarizer] [START] Summarize https://star.ettoday.net/news/2495800?from=fb_et_news_comment&fbclid=IwAR3EwZRSUKawGNufv8mtZmHQK_OqHrxn4GZ5ILWFZHHba04QdyA53drsyKg\n",
      "[2023-05-09 23:52:26,622] [INFO] [ArticleSummarizer] Navigating to https://star.ettoday.net/news/2495800?from=fb_et_news_comment&fbclid=IwAR3EwZRSUKawGNufv8mtZmHQK_OqHrxn4GZ5ILWFZHHba04QdyA53drsyKg...\n",
      "[2023-05-09 23:52:43,625] [INFO] [ArticleSummarizer] Getting article text...\n",
      "[2023-05-09 23:52:43,694] [INFO] [ArticleSummarizer] Retrieved article text: [{\"innerText\": \"小甜甜直播哽咽「求你放過我」　拉藝人好友澄清時間點：帶狗去墾丁\\n【好康】憲哥推薦防水藍芽喇叭，人氣投票跳樓大方抽\\n\\n記者蔡宜芳／綜合報導\\n\\n女星小甜甜（張可昀）日前遭前夫指控虐狗，雙方在網路上隔空交戰，引起熱議，目前動保局已經介入協助釐清。小甜甜9日晚間在片場休息室開直播，再度強調自己沒有虐狗，除了拉其他藝人佐證，中途還一度情緒激動、哽咽淚崩，喊話前夫「求你放過我」。\\n\\n▲小甜甜日前被前夫指控虐狗。（圖／翻攝自Facebook／小甜甜 張可昀）\\n\\n小甜甜9日在直播中表示，她今天才了解到動保局有分很多單位，所以幾通電話的聯絡人都不一樣，但目前已經著手處理，她也透露動保局有截取相關抹黑留言，建議她之後可以考慮提告。小甜甜強調，她自認不需要再對酸民證明什麼，「因為我覺得我問心無愧，沒有就是沒有，我跟我的狗非常好。」\\n\\n[廣告]請繼續往下閱讀...\\n\\n小甜甜說到一半也忍不住哽咽淚崩，表示自己飼養愛犬茼蒿已經有14年，一起經歷過很多的風風雨雨，不可能會虐待狗狗，她更向前夫喊話：「我求求你，放過我。」並表示之後一定還會提告，但目前還不便透露具體內容。\\n\\n▲小甜甜在直播中哽咽。（圖／翻攝自Facebook／小甜甜 張可昀）\\n\\n此外，小甜甜在前幾次聲明中曾提及事發時間點是關鍵，她表示，自己之所以一直要強調日期，是因為她5月3日才帶著狗狗一起去墾丁。接著，她走到馬國畢、賴慧如等人面前，一個個問「有沒有去墾丁」、「有沒有去海邊」，直言有很多藝人好友可以為自己作證。\\n\\n▲馬國畢和賴慧如都表示小甜甜確實有去墾丁。（圖／翻攝自Facebook／小甜甜 張可昀）\\n\\n►小甜甜突撤告前夫家暴案原因曝光！被控虐狗氣炸「都交給司法了」\\n\\n►小甜甜氣炸PO影片：我沒虐狗！前夫秒抓疑點「手擋住了欸」\\n\\n►小甜甜被「手術證據」激怒開戰　前夫留言嗆往事「刮車說謊」：轉移焦點啊？\\n\\n►囤貨最佳時機！150抽「蒲公英環保衛生紙」只要13元 讓媽媽抽到手抽筋\\n\\n娛樂大事不漏接！點我手刀加入星光雲LINE好友\\n\\n分享給朋友：\\n\\n追蹤我們：\\n\\n蔡依林《騎士精神》「被跳爛」　嚴肅斥：回去想一下好不好！\\n推薦閱讀\\n小甜甜突撤告前夫家暴案原因曝光！被控虐狗氣炸「都...\\n \\n小甜甜氣炸PO影片：我沒虐狗！前夫秒抓疑點「手擋...\\n \\n小甜甜被「手術證據」激怒開戰　前夫留言嗆往事「刮...\\n \\n宋晉賢亮完整對話：放任傷口惡化！　小甜甜見狗重傷...\\n \\n快訊／小甜甜爆氣反擊虐狗：有毛病！　嗆前夫「造假...\\n \\n創世基金會合作鳳梨被出征！　他急致電道歉怒了：覺...\\n \\n網紅「台南Josh」被老婆家暴！家具電腦全砸　牆...\\n \\n蕾神4000字再開搥！鄉民女神曝「6重點懶人包」...\\n \\nYumi曬對話紀錄「被裸照打臉」！鄉民女神諷：蕾...\\n \\n美女主播宣布離開年代！「上週公司經歷大風波」分開...\\n \\n影／「硬漢」黃包包傳出第3部30秒愛情片！女友急...\\n \\nB站「15歲UP主」吃10歲女童軟飯　誘惑玩文字...\\n你可能有興趣\\nRecommended by \\n1歲小搶匪奪王妃手提包　凱特被逗樂：讓他繼續玩\\n路上搭訕重機翹臀辣妹　她竟掀衣「回贈2粒」\\n【Fred吃上癮】單身狗交友絕招！法式羊排鮭魚&紅酒燉牛肉佐優格醬\\n在家也能做出高級炊飯 ｜料理小教室｜料理之王3 CooKing｜EP20\\n《我們練愛吧》EP68花絮 納豆壞笑表示想摸摸？！ 依依羞喊：啊～不要～\\n別再迷思專櫃保養品！日本熱銷平價撫皺霜，網友推：這罐用了就回不去了。\\nPR\\n別再迷思專櫃保養品！日本熱銷平價撫皺霜，網友推：這罐用了就回不去了。\\nPR\\n銀行不想你知道的秘密：誰都可以這樣賺錢！\\nPR\\n銀行害怕了！試圖掩蓋這個普通人狂賺的秘密\\nPR\\n更多影劇新聞 回 ETtoday 首頁\\n\\n※本文版權所有，非經授權，不得轉載。[ETtoday著作權聲明]※\\n\\n熱門新聞\\n更多\\n【發燒】臺大盃熱舞大賽 抽防水藍芽喇叭\\n【熱門】下載新聞雲App抽三星手機\\n7寶爸網紅認錯了！被轟用小孩賺錢「揭妻崩潰現況」　全家收入來源曝光\\n台3女星是愛馬仕大戶！她「1顆包能買北市蛋黃區套房」　驚人天價曝光\\nIG都在轉！慶生送現金的男人是誰？　Mr.Beast真實身份「全球最賺網紅」\\n楊丞琳被笑「跳舞表情猙獰」首度反擊了！　火大開嗆：你們是外行人\\n王思佳現身吃喜酒…被揪「全身香奈兒複製關穎」！　對方親上火線表態了\\n王思佳甩假包風波首露臉！　「全身粉紅香奈兒」老公隔空告白\\n王思佳再爆香奈兒假包！　律師「人也在現場」吐實情：沒要坦護\\n王思佳遭疑穿小香假貨「忍3天開嗆了」！　親曝入手管道怒：胡亂潑髒水\\n《魔法阿媽》原型奶奶92歲去世！　兒子黃仲崑痛曝噩耗\\n直擊郭書瑤收工「穿超辣」！　吳慷仁片場巧妙擦身前女友鍾瑶　\\n  ← 最新勁爆影劇話題，按「讚」加入星光雲\\n關鍵字 ： 小甜甜, 張可昀\"}, {\"innerText\": \"記者蔡宜芳／綜合報導\\n\\n女星小甜甜（張可昀）日前遭前夫指控虐狗，雙方在網路上隔空交戰，引起熱議，目前動保局已經介入協助釐清。小甜甜9日晚間在片場休息室開直播，再度強調自己沒有虐狗，除了拉其他藝人佐證，中途還一度情緒激動、哽咽淚崩，喊話前夫「求你放過我」。\\n\\n▲小甜甜日前被前夫指控虐狗。（圖／翻攝自Facebook／小甜甜 張可昀）\\n\\n小甜甜9日在直播中表示，她今天才了解到動保局有分很多單位，所以幾通電話的聯絡人都不一樣，但目前已經著手處理，她也透露動保局有截取相關抹黑留言，建議她之後可以考慮提告。小甜甜強調，她自認不需要再對酸民證明什麼，「因為我覺得我問心無愧，沒有就是沒有，我跟我的狗非常好。」\\n\\n[廣告]請繼續往下閱讀...\\n\\n小甜甜說到一半也忍不住哽咽淚崩，表示自己飼養愛犬茼蒿已經有14年，一起經歷過很多的風風雨雨，不可能會虐待狗狗，她更向前夫喊話：「我求求你，放過我。」並表示之後一定還會提告，但目前還不便透露具體內容。\\n\\n▲小甜甜在直播中哽咽。（圖／翻攝自Facebook／小甜甜 張可昀）\\n\\n此外，小甜甜在前幾次聲明中曾提及事發時間點是關鍵，她表示，自己之所以一直要強調日期，是因為她5月3日才帶著狗狗一起去墾丁。接著，她走到馬國畢、賴慧如等人面前，一個個問「有沒有去墾丁」、「有沒有去海邊」，直言有很多藝人好友可以為自己作證。\\n\\n▲馬國畢和賴慧如都表示小甜甜確實有去墾丁。（圖／翻攝自Facebook／小甜甜 張可昀）\"}, {\"innerText\": \"►小甜甜突撤告前夫家暴案原因曝光！被控虐狗氣炸「都交給司法了」\\n\\n►小甜甜氣炸PO影片：我沒虐狗！前夫秒抓疑點「手擋住了欸」\\n\\n►小甜甜被「手術證據」激怒開戰　前夫留言嗆往事「刮車說謊」：轉移焦點啊？\\n\\n►囤貨最佳時機！150抽「蒲公英環保衛生紙」只要13元 讓媽媽抽到手抽筋\"}]\n",
      "[2023-05-09 23:52:43,695] [INFO] [ArticleSummarizer] Prompt: [HumanMessage(content='\\n將以下文章總結成最多100字：\\n\\n小甜甜直播哽咽「求你放過我」\\u3000拉藝人好友澄清時間點：帶狗去墾丁\\n【好康】憲哥推薦防水藍芽喇叭，人氣投票跳樓大方抽\\n\\n記者蔡宜芳／綜合報導\\n\\n女星小甜甜（張可昀）日前遭前夫指控虐狗，雙方在網路上隔空交戰，引起熱議，目前動保局已經介入協助釐清。小甜甜9日晚間在片場休息室開直播，再度強調自己沒有虐狗，除了拉其他藝人佐證，中途還一度情緒激動、哽咽淚崩，喊話前夫「求你放過我」。\\n\\n▲小甜甜日前被前夫指控虐狗。（圖／翻攝自Facebook／小甜甜 張可昀）\\n\\n小甜甜9日在直播中表示，她今天才了解到動保局有分很多單位，所以幾通電話的聯絡人都不一樣，但目前已經著手處理，她也透露動保局有截取相關抹黑留言，建議她之後可以考慮提告。小甜甜強調，她自認不需要再對酸民證明什麼，「因為我覺得我問心無愧，沒有就是沒有，我跟我的狗非常好。」\\n\\n[廣告]請繼續往下閱讀...\\n\\n小甜甜說到一半也忍不住哽咽淚崩，表示自己飼養愛犬茼蒿已經有14年，一起經歷過很多的風風雨雨，不可能會虐待狗狗，她更向前夫喊話：「我求求你，放過我。」並表示之後一定還會提告，但目前還不便透露具體內容。\\n\\n▲小甜甜在直播中哽咽。（圖／翻攝自Facebook／小甜甜 張可昀）\\n\\n此外，小甜甜在前幾次聲明中曾提及事發時間點是關鍵，她表示，自己之所以一直要強調日期，是因為她5月3日才帶著狗狗一起去墾丁。接著，她走到馬國畢、賴慧如等人面前，一個個問「有沒有去墾丁」、「有沒有去海邊」，直言有很多藝人好友可以為自己作證。\\n\\n▲馬國畢和賴慧如都表示小甜甜確實有去墾丁。（圖／翻攝自Facebook／小甜甜 張可昀）\\n\\n►小甜甜突撤告前夫家暴案原因曝光！被控虐狗氣炸「都交給司法了」\\n\\n►小甜甜氣炸PO影片：我沒虐狗！前夫秒抓疑點「手擋住了欸」\\n\\n►小甜甜被「手術證據」激怒開戰\\u3000前夫留言嗆往事「刮車說謊」：轉移焦點啊？\\n\\n►囤貨最佳時機！150抽「蒲公英環保衛生紙」只要13元 讓媽媽抽到手抽筋\\n\\n娛樂大事不漏接！點我手刀加入星光雲LINE好友\\n\\n分享給朋友：\\n\\n追蹤我們：\\n\\n蔡依林《騎士精神》「被跳爛」\\u3000嚴肅斥：回去想一下好不好！\\n推薦閱讀\\n小甜甜突撤告前夫家暴案原因曝光！被控虐狗氣炸「都...\\n \\n小甜甜氣炸PO影片：我沒虐狗！前夫秒抓疑點「手擋...\\n \\n小甜甜被「手術證據」激怒開戰\\u3000前夫留言嗆往事「刮...\\n \\n宋晉賢亮完整對話：放任傷口惡化！\\u3000小甜甜見狗重傷...\\n \\n快訊／小甜甜爆氣反擊虐狗：有毛病！\\u3000嗆前夫「造假...\\n \\n創世基金會合作鳳梨被出征！\\u3000他急致電道歉怒了：覺...\\n \\n網紅「台南Josh」被老婆家暴！家具電腦全砸\\u3000牆...\\n \\n蕾神4000字再開搥！鄉民女神曝「6重點懶人包」...\\n \\nYumi曬對話紀錄「被裸照打臉」！鄉民女神諷：蕾...\\n \\n美女主播宣布離開年代！「上週公司經歷大風波」分開...\\n \\n影／「硬漢」黃包包傳出第3部30秒愛情片！女友急...\\n \\nB站「15歲UP主」吃10歲女童軟飯\\u3000誘惑玩文字...\\n你可能有興趣\\nRecommended by \\n1歲小搶匪奪王妃手提包\\u3000凱特被逗樂：讓他繼續玩\\n路上搭訕重機翹臀辣妹\\u3000她竟掀衣「回贈2粒」\\n【Fred吃上癮】單身狗交友絕招！法式羊排鮭魚&紅酒燉牛肉佐優格醬\\n在家也能做出高級炊飯 ｜料理小教室｜料理之王3 CooKing｜EP20\\n《我們練愛吧》EP68花絮 納豆壞笑表示想摸摸？！ 依依羞喊：啊～不要～\\n別再迷思專櫃保養品！日本熱銷平價撫皺霜，網友推：這罐用了就回不去了。\\nPR\\n別再迷思專櫃保養品！日本熱銷平價撫皺霜，網友推：這罐用了就回不去了。\\nPR\\n銀行不想你知道的秘密：誰都可以這樣賺錢！\\nPR\\n銀行害怕了！試圖掩蓋這個普通人狂賺的秘密\\nPR\\n更多影劇新聞 回 ETtoday 首頁\\n\\n※本文版權所有，非經授權，不得轉載。[ETtoday著作權聲明]※\\n\\n熱門新聞\\n更多\\n【發燒】臺大盃熱舞大賽 抽防水藍芽喇叭\\n【熱門】下載新聞雲App抽三星手機\\n7寶爸網紅認錯了！被轟用小孩賺錢「揭妻崩潰現況」\\u3000全家收入來源曝光\\n台3女星是愛馬仕大戶！她「1顆包能買北市蛋黃區套房」\\u3000驚人天價曝光\\nIG都在轉！慶生送現金的男人是誰？\\u3000Mr.Beast真實身份「全球最賺網紅」\\n楊丞琳被笑「跳舞表情猙獰」首度反擊了！\\u3000火大開嗆：你們是外行人\\n王思佳現身吃喜酒…被揪「全身香奈兒複製關穎」！\\u3000對方親上火線表態了\\n王思佳甩假包風波首露臉！\\u3000「全身粉紅香奈兒」老公隔空告白\\n王思佳再爆香奈兒假包！\\u3000律師「人也在現場」吐實情：沒要坦護\\n王思佳遭疑穿小香假貨「忍3天開嗆了」！\\u3000親曝入手管道怒：胡亂潑髒水\\n《魔法阿媽》原型奶奶92歲去世！\\u3000兒子黃仲崑痛曝噩耗\\n直擊郭書瑤收工「穿超辣」！\\u3000吳慷仁片場巧妙擦身前女友鍾瑶\\u3000\\n\\xa0\\xa0← 最新勁爆影劇話題，按「讚」加入星光雲\\n關鍵字 ： 小甜甜, 張可昀\\n記者蔡宜芳／綜合報導\\n\\n女星小甜甜（張可昀）日前遭前夫指控虐狗，雙方在網路上隔空交戰，引起熱議，目前動保局已經介入協助釐清。小甜甜9日晚間在片場休息室開直播，再度強調自己沒有虐狗，除了拉其他藝人佐證，中途還一度情緒激動、哽咽淚崩，喊話前夫「求你放過我」。\\n\\n▲小甜甜日前被前夫指控虐狗。（圖／翻攝自Facebook／小甜甜 張可昀）\\n\\n小甜甜9日在直播中表示，她今天才了解到動保局有分很多單位，所以幾通電話的聯絡人都不一樣，但目前已經著手處理，她也透露動保局有截取相關抹黑留言，建議她之後可以考慮提告。小甜甜強調，她自認不需要再對酸民證明什麼，「因為我覺得我問心無愧，沒有就是沒有，我跟我的狗非常好。」\\n\\n[廣告]請繼續往下閱讀...\\n\\n小甜甜說到一半也忍不住哽咽淚崩，表示自己飼養愛犬茼蒿已經有14年，一起經歷過很多的風風雨雨，不可能會虐待狗狗，她更向前夫喊話：「我求求你，放過我。」並表示之後一定還會提告，但目前還不便透露具體內容。\\n\\n▲小甜甜在直播中哽咽。（圖／翻攝自Facebook／小甜甜 張可昀）\\n\\n此外，小甜甜在前幾次聲明中曾提及事發時間點是關鍵，她表示，自己之所以一直要強調日期，是因為她5月3日才帶著狗狗一起去墾丁。接著，她走到馬國畢、賴慧如等人面前，一個個問「有沒有去墾丁」、「有沒有去海邊」，直言有很多藝人好友可以為自己作證。\\n\\n▲馬國畢和賴慧如都表示小甜甜確實有去墾丁。（圖／翻攝自Facebook／小甜甜 張可昀）\\n►小甜甜突撤告前夫家暴案原因曝光！被控虐狗氣炸「都交給司法了」\\n\\n►小甜甜氣炸PO影片：我沒虐狗！前夫秒抓疑點「手擋住了欸」\\n\\n►小甜甜被「手術證據」激怒開戰\\u3000前夫留言嗆往事「刮車說謊」：轉移焦點啊？\\n\\n►囤貨最佳時機！150抽「蒲公英環保衛生紙」只要13元 讓媽媽抽到手抽筋\\n', additional_kwargs={}, example=False)]\n",
      "[2023-05-09 23:52:57,295] [INFO] [ArticleSummarizer] [END] Summarizehttps://star.ettoday.net/news/2495800?from=fb_et_news_comment&fbclid=IwAR3EwZRSUKawGNufv8mtZmHQK_OqHrxn4GZ5ILWFZHHba04QdyA53drsyKg\n"
     ]
    },
    {
     "data": {
      "text/plain": [
       "'小甜甜在直播中哽咽淚崩，強調自己沒有虐狗，並喊話前夫「求你放過我」。她也拉其他藝人佐證，表示自己5月3日才帶著狗狗一起去墾丁，有很多藝人好友可以為自己作證。動保局已介入協助釐清此事，小甜甜也透露動保局有截取相關抹黑留言，建議她之後可以考慮提告。'"
      ]
     },
     "execution_count": 44,
     "metadata": {},
     "output_type": "execute_result"
    }
   ],
   "source": [
    "from dotenv import load_dotenv\n",
    "from news_breaker.article_summarizer import ArticleSummarizer\n",
    "\n",
    "load_dotenv()\n",
    "summarizer = ArticleSummarizer(url)\n",
    "result = await summarizer.summarize()\n",
    "\n",
    "result"
   ]
  },
  {
   "cell_type": "code",
   "execution_count": 45,
   "id": "04e02fa6-cb9e-48eb-822b-0fe284a61e20",
   "metadata": {
    "tags": []
   },
   "outputs": [],
   "source": [
    "comment = detail_posts[0].get_by_role(\"textbox\")\n",
    "await comment.fill(f\"{result}\\n\\n#auto_generated_by_news_breaker\\n#台灣新聞淨化運動\")"
   ]
  },
  {
   "cell_type": "code",
   "execution_count": 46,
   "id": "475fbb9b-17bc-44e7-beb1-9ace2760af54",
   "metadata": {
    "tags": []
   },
   "outputs": [],
   "source": [
    "await comment.press(\"Enter\")"
   ]
  },
  {
   "cell_type": "code",
   "execution_count": 47,
   "id": "224fa591-4750-4a8d-b2b7-86590e85a71e",
   "metadata": {
    "tags": []
   },
   "outputs": [],
   "source": [
    "await browser.close()"
   ]
  },
  {
   "cell_type": "code",
   "execution_count": null,
   "id": "3ccc645f-de6c-4081-a1eb-838656f220d2",
   "metadata": {},
   "outputs": [],
   "source": []
  }
 ],
 "metadata": {
  "kernelspec": {
   "display_name": "Python 3 (ipykernel)",
   "language": "python",
   "name": "python3"
  },
  "language_info": {
   "codemirror_mode": {
    "name": "ipython",
    "version": 3
   },
   "file_extension": ".py",
   "mimetype": "text/x-python",
   "name": "python",
   "nbconvert_exporter": "python",
   "pygments_lexer": "ipython3",
   "version": "3.11.3"
  }
 },
 "nbformat": 4,
 "nbformat_minor": 5
}
