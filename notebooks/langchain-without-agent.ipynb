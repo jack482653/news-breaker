{
 "cells": [
  {
   "cell_type": "code",
   "execution_count": 1,
   "id": "0dbe72fb-911e-415c-b4d0-8fb2aa91dbf7",
   "metadata": {
    "tags": []
   },
   "outputs": [
    {
     "data": {
      "text/plain": [
       "True"
      ]
     },
     "execution_count": 1,
     "metadata": {},
     "output_type": "execute_result"
    }
   ],
   "source": [
    "from dotenv import load_dotenv\n",
    "load_dotenv()"
   ]
  },
  {
   "cell_type": "code",
   "execution_count": 2,
   "id": "b2f10d01-81b5-4782-bfa1-3b275c38207a",
   "metadata": {},
   "outputs": [],
   "source": [
    "# !pip install playwright > /dev/null\n",
    "# !pip install  lxml\n",
    "\n",
    "# If this is your first time using playwright, you'll have to install a browser executable.\n",
    "# Running `playwright install` by default installs a chromium browser executable.\n",
    "# playwright install"
   ]
  },
  {
   "cell_type": "code",
   "execution_count": 3,
   "id": "ade514ae-c084-4319-a99f-c33c74e6aa1b",
   "metadata": {
    "tags": []
   },
   "outputs": [],
   "source": [
    "from langchain.agents.agent_toolkits import PlayWrightBrowserToolkit\n",
    "from langchain.tools.playwright.utils import run_async\n",
    "\n",
    "# This import is required only for jupyter notebooks, since they have their own eventloop\n",
    "import nest_asyncio\n",
    "nest_asyncio.apply()"
   ]
  },
  {
   "cell_type": "code",
   "execution_count": 10,
   "id": "e7616a17-b457-487e-9f2c-88ab011a10ea",
   "metadata": {
    "tags": []
   },
   "outputs": [
    {
     "data": {
      "text/plain": [
       "'Navigating to https://www.ftvnews.com.tw/news/detail/2023505W0297 returned status code 200'"
      ]
     },
     "execution_count": 10,
     "metadata": {},
     "output_type": "execute_result"
    }
   ],
   "source": [
    "from playwright.async_api import async_playwright\n",
    "\n",
    "playwright = async_playwright()\n",
    "device = {\n",
    "    \"user_agent\": \"Mozilla/5.0 (Windows NT 10.0; Win64; x64) AppleWebKit/537.36 (KHTML, like Gecko) Chrome/113.0.5672.53 Safari/537.36\",\n",
    "    \"screen\": {\n",
    "      \"width\": 1920,\n",
    "      \"height\": 1080\n",
    "    },\n",
    "    \"viewport\": {\n",
    "      \"width\": 1280,\n",
    "      \"height\": 720\n",
    "    },\n",
    "    \"device_scale_factor\": 1,\n",
    "    \"is_mobile\": False,\n",
    "    \"has_touch\": False,\n",
    "    \"default_browser_type\": \"chromium\"\n",
    "}\n",
    "browser = run_async(playwright.start())\n",
    "browser = run_async(browser.chromium.launch(headless=True))\n",
    "context = await browser.new_context(**device)\n",
    "\n",
    "toolkit = PlayWrightBrowserToolkit.from_browser(async_browser=browser)\n",
    "tools = toolkit.get_tools()\n",
    "\n",
    "tools_by_name = {tool.name: tool for tool in tools}\n",
    "navigate_tool = tools_by_name[\"navigate_browser\"]\n",
    "get_elements_tool = tools_by_name[\"get_elements\"]\n",
    "\n",
    "url = \"https://www.ftvnews.com.tw/news/detail/2023505W0297\"\n",
    "await navigate_tool.arun({\"url\": url})"
   ]
  },
  {
   "cell_type": "code",
   "execution_count": 24,
   "id": "48e5034b-d8da-44e7-93fd-16572ba7cd19",
   "metadata": {
    "tags": []
   },
   "outputs": [
    {
     "name": "stdout",
     "output_type": "stream",
     "text": [
      "趙怡翔說：國民黨頭痛的是，該如何把郭台銘「輕輕地放下」。\n",
      "\n",
      "論壇中心／林靜芬報導\n",
      "\n",
      "國民黨2024總統人選尚未底定，新北市長侯友宜與鴻海創辦人郭台銘實力相當，但如今傳出國民黨已內定侯出馬參選。對此，民進黨台北市議員趙怡翔在《全國第一勇》節目中表示，郭台銘現在已經亂了、急了，「因為他知道他快被做掉了！」而國民黨接下來要思考的是，「如何把郭台銘輕輕地放下，一旦放得太快、破碎了，對不起，他又再次跟你國民黨翻臉」。\n",
      "\n",
      "\n",
      "\n",
      "\n",
      "\n",
      "\n",
      "\n",
      "\n",
      "\n",
      "\n",
      "更多新聞： 快新聞／出獄畫面曝！　趙玉柱獲假釋手比讚：非常高興\n",
      "\n",
      "郭台銘與侯友宜的國民黨總統參選徵召之爭，越趨白熱化。《全國第一勇》來賓趙怡翔指出，郭台銘最近拋出的許多議題，被批評欠缺周全的思考，包括「我要用AI去處理詐騙、我要用機器人去維護台灣的戰場」等等，為什麼這樣說？「因為他急了，他知道在整個過程當中已經都被內定了」。\n",
      "\n",
      "\n",
      "\n",
      "\n",
      "\n",
      "\n",
      "\n",
      "趙怡翔：侯、郭像打電動兩兄弟， 只有一個人真玩。（圖／民視新聞）\n",
      "\n",
      "\n",
      "\n",
      "\n",
      "趙怡翔分析指出，郭台銘最近的處境，讓他想到網路上一張迷因哏圖，「就是兩個兄弟在打電動，兩個都打得很認真，但只有哥（侯友宜）遙控器有插進電玩裡面，弟弟（郭台銘）的是完全沒有插進去。弟弟就是在打假球，自high而已」。\n",
      "\n",
      "趙怡翔進一步表示：「所以我就說，只有侯友宜真的在玩，郭台銘以為他在玩，但他連插頭都沒插進去，不知道在玩什麼，但重點是，根本從頭到尾就沒有他的份，只不過還是有畫面」、「因為侯友宜也在按，就是哥哥也在按，弟弟按得很開心，以為是他在跳，但其實是哥哥在跳。」\n",
      "\n",
      "但郭董可以任憑國民黨愚弄嗎？趙怡翔認為，現在國民黨如果要說服大家，這個是一個公正的選舉，就應該把民調的基準、時間點拿出來，「你把到時候考慮的，不同因素跟百分比全部都拿出來，說對不起，客觀而言就是侯友宜比較強，我覺得這會買單的」，但是今天如果你是黑箱作業，說不出來任何的依據，最後就推侯友宜的話，國民黨會有麻煩。\n",
      "「為什麼？你把他放得太快、 破碎了，他又再次跟你國民黨翻臉，甚至於去加入第三黨，所以國民黨現在要思考的就是，要如何把郭台銘輕輕地放下。」\n",
      "\n",
      "更多新聞： 賴清德新北民調超車侯友宜6％　立委分析「2關鍵」侯失去優勢\n"
     ]
    }
   ],
   "source": [
    "text = await get_elements_tool.arun({\"selector\": \"article\"})\n",
    "\n",
    "import json\n",
    "\n",
    "h = json.loads(text)\n",
    "article = h[0][\"innerText\"]\n",
    "print(article)"
   ]
  },
  {
   "cell_type": "code",
   "execution_count": 25,
   "id": "2b85b858-0810-4302-ac4e-e0f6f4827da9",
   "metadata": {
    "tags": []
   },
   "outputs": [
    {
     "name": "stdout",
     "output_type": "stream",
     "text": [
      "Total Tokens: 1497\n",
      "Prompt Tokens: 1322\n",
      "Completion Tokens: 175\n",
      "Total Cost (USD): $0.002994\n",
      "content='國民黨內定侯友宜參選2024總統，讓郭台銘感到亂、急，但國民黨頭痛的是如何輕輕地放下他，避免再次翻臉。趙怡翔指出，郭台銘像打電動的弟弟，只是自high而已，而國民黨應該公正選舉，否則會有麻煩。國民黨要思考如何放下郭台銘，避免他加入第三黨。' additional_kwargs={} example=False\n"
     ]
    }
   ],
   "source": [
    "from langchain.chat_models.openai import ChatOpenAI\n",
    "from langchain.schema import (\n",
    "    AIMessage,\n",
    "    HumanMessage,\n",
    "    SystemMessage\n",
    ")\n",
    "from langchain.callbacks import get_openai_callback\n",
    "\n",
    "# llm = ChatOpenAI(model_name=\"gpt-4-0314\", temperature=0)\n",
    "llm = ChatOpenAI(temperature=0)\n",
    "\n",
    "# prompt = f\"\"\"\n",
    "# navigate to {url} and article of the news.\n",
    "# \"\"\"\n",
    "prompt = f\"\"\"\n",
    "將以下文章總結成最多100字：\n",
    "\n",
    "{article}\n",
    "\"\"\"\n",
    "\n",
    "with get_openai_callback() as cb:\n",
    "    result = llm([HumanMessage(content=prompt)])\n",
    "    # result = await agent_chain.arun(prompt)\n",
    "    print(f\"Total Tokens: {cb.total_tokens}\")\n",
    "    print(f\"Prompt Tokens: {cb.prompt_tokens}\")\n",
    "    print(f\"Completion Tokens: {cb.completion_tokens}\")\n",
    "    print(f\"Total Cost (USD): ${cb.total_cost}\")\n",
    "    print(result)"
   ]
  },
  {
   "cell_type": "code",
   "execution_count": 23,
   "id": "54e2b3d0-b16b-4bed-8068-ed9d04e82233",
   "metadata": {},
   "outputs": [
    {
     "data": {
      "text/plain": [
       "'趙怡翔說：國民黨頭痛的是，該如何把郭台銘「輕輕地放下」。\\n\\n論壇中心／林靜芬報導\\n\\n國民黨2024總統人選尚未底定，新北市長侯友宜與鴻海創辦人郭台銘實力相當，但如今傳出國民黨已內定侯出馬參選。對此，民進黨台北市議員趙怡翔在《全國第一勇》節目中表示，郭台銘現在已經亂了、急了，「因為他知道他快被做掉了！」而國民黨接下來要思考的是，「如何把郭台銘輕輕地放下，一旦放得太快、破碎了，對不起，他又再次跟你國民黨翻臉」。\\n\\n\\n\\n\\n\\n\\n\\n\\n\\n\\n更多新聞： 快新聞／出獄畫面曝！\\u3000趙玉柱獲假釋手比讚：非常高興\\n\\n郭台銘與侯友宜的國民黨總統參選徵召之爭，越趨白熱化。《全國第一勇》來賓趙怡翔指出，郭台銘最近拋出的許多議題，被批評欠缺周全的思考，包括「我要用AI去處理詐騙、我要用機器人去維護台灣的戰場」等等，為什麼這樣說？「因為他急了，他知道在整個過程當中已經都被內定了」。\\n\\n\\n\\n\\n\\n\\n\\n趙怡翔：侯、郭像打電動兩兄弟， 只有一個人真玩。（圖／民視新聞）\\n\\n\\n\\n\\n趙怡翔分析指出，郭台銘最近的處境，讓他想到網路上一張迷因哏圖，「就是兩個兄弟在打電動，兩個都打得很認真，但只有哥（侯友宜）遙控器有插進電玩裡面，弟弟（郭台銘）的是完全沒有插進去。弟弟就是在打假球，自high而已」。\\n\\n趙怡翔進一步表示：「所以我就說，只有侯友宜真的在玩，郭台銘以為他在玩，但他連插頭都沒插進去，不知道在玩什麼，但重點是，根本從頭到尾就沒有他的份，只不過還是有畫面」、「因為侯友宜也在按，就是哥哥也在按，弟弟按得很開心，以為是他在跳，但其實是哥哥在跳。」\\n\\n但郭董可以任憑國民黨愚弄嗎？趙怡翔認為，現在國民黨如果要說服大家，這個是一個公正的選舉，就應該把民調的基準、時間點拿出來，「你把到時候考慮的，不同因素跟百分比全部都拿出來，說對不起，客觀而言就是侯友宜比較強，我覺得這會買單的」，但是今天如果你是黑箱作業，說不出來任何的依據，最後就推侯友宜的話，國民黨會有麻煩。\\n「為什麼？你把他放得太快、 破碎了，他又再次跟你國民黨翻臉，甚至於去加入第三黨，所以國民黨現在要思考的就是，要如何把郭台銘輕輕地放下。」\\n\\n更多新聞： 賴清德新北民調超車侯友宜6％\\u3000立委分析「2關鍵」侯失去優勢'"
      ]
     },
     "execution_count": 23,
     "metadata": {},
     "output_type": "execute_result"
    }
   ],
   "source": [
    "import json\n",
    "\n",
    "h = json.loads(text)\n",
    "h[0][\"innerText\"]"
   ]
  },
  {
   "cell_type": "code",
   "execution_count": null,
   "id": "c02cf956-98ca-42d6-931c-f557a0466949",
   "metadata": {},
   "outputs": [],
   "source": []
  }
 ],
 "metadata": {
  "kernelspec": {
   "display_name": "Python 3 (ipykernel)",
   "language": "python",
   "name": "python3"
  },
  "language_info": {
   "codemirror_mode": {
    "name": "ipython",
    "version": 3
   },
   "file_extension": ".py",
   "mimetype": "text/x-python",
   "name": "python",
   "nbconvert_exporter": "python",
   "pygments_lexer": "ipython3",
   "version": "3.11.3"
  }
 },
 "nbformat": 4,
 "nbformat_minor": 5
}
