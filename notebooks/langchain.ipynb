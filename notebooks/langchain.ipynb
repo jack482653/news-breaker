{
 "cells": [
  {
   "cell_type": "code",
   "execution_count": 34,
   "id": "0dbe72fb-911e-415c-b4d0-8fb2aa91dbf7",
   "metadata": {
    "tags": []
   },
   "outputs": [
    {
     "data": {
      "text/plain": [
       "True"
      ]
     },
     "execution_count": 34,
     "metadata": {},
     "output_type": "execute_result"
    }
   ],
   "source": [
    "from dotenv import load_dotenv\n",
    "load_dotenv()"
   ]
  },
  {
   "cell_type": "code",
   "execution_count": 35,
   "id": "b2f10d01-81b5-4782-bfa1-3b275c38207a",
   "metadata": {
    "tags": []
   },
   "outputs": [],
   "source": [
    "# !pip install playwright > /dev/null\n",
    "# !pip install  lxml\n",
    "\n",
    "# If this is your first time using playwright, you'll have to install a browser executable.\n",
    "# Running `playwright install` by default installs a chromium browser executable.\n",
    "# playwright install"
   ]
  },
  {
   "cell_type": "code",
   "execution_count": 23,
   "id": "ade514ae-c084-4319-a99f-c33c74e6aa1b",
   "metadata": {
    "tags": []
   },
   "outputs": [],
   "source": [
    "from langchain.agents.agent_toolkits import PlayWrightBrowserToolkit\n",
    "from langchain.tools.playwright.utils import run_async\n",
    "\n",
    "# This import is required only for jupyter notebooks, since they have their own eventloop\n",
    "import nest_asyncio\n",
    "nest_asyncio.apply()"
   ]
  },
  {
   "cell_type": "code",
   "execution_count": 48,
   "id": "e7616a17-b457-487e-9f2c-88ab011a10ea",
   "metadata": {
    "tags": []
   },
   "outputs": [
    {
     "data": {
      "text/plain": [
       "'Navigating to https://www.ftvnews.com.tw/news/detail/2023505W0297 returned status code 200'"
      ]
     },
     "execution_count": 48,
     "metadata": {},
     "output_type": "execute_result"
    }
   ],
   "source": [
    "from playwright.async_api import async_playwright\n",
    "from news_breaker.get_elements import GetElementsToolUtf8\n",
    "\n",
    "playwright = async_playwright()\n",
    "device = {\n",
    "    \"user_agent\": \"Mozilla/5.0 (Windows NT 10.0; Win64; x64) AppleWebKit/537.36 (KHTML, like Gecko) Chrome/113.0.5672.53 Safari/537.36\",\n",
    "    \"screen\": {\n",
    "      \"width\": 1920,\n",
    "      \"height\": 1080\n",
    "    },\n",
    "    \"viewport\": {\n",
    "      \"width\": 1280,\n",
    "      \"height\": 720\n",
    "    },\n",
    "    \"device_scale_factor\": 1,\n",
    "    \"is_mobile\": False,\n",
    "    \"has_touch\": False,\n",
    "    \"default_browser_type\": \"chromium\"\n",
    "}\n",
    "browser = run_async(playwright.start())\n",
    "browser = run_async(browser.chromium.launch(headless=True))\n",
    "context = await browser.new_context(**device)\n",
    "\n",
    "toolkit = PlayWrightBrowserToolkit.from_browser(async_browser=browser)\n",
    "tools = toolkit.get_tools()\n",
    "\n",
    "tools_by_name = {tool.name: tool for tool in tools}\n",
    "navigate_tool = tools_by_name[\"navigate_browser\"]\n",
    "get_elements_tool = GetElementsToolUtf8.from_browser(async_browser=browser)\n",
    "extract_text_tool = tools_by_name[\"extract_text\"]\n",
    "\n",
    "url = \"https://www.ftvnews.com.tw/news/detail/2023505W0297\"\n",
    "await navigate_tool.arun({\"url\": url})"
   ]
  },
  {
   "cell_type": "code",
   "execution_count": 49,
   "id": "48e5034b-d8da-44e7-93fd-16572ba7cd19",
   "metadata": {
    "tags": []
   },
   "outputs": [
    {
     "data": {
      "text/plain": [
       "'[{\"innerText\": \"趙怡翔說：國民黨頭痛的是，該如何把郭台銘「輕輕地放下」。\\\\n\\\\n論壇中心／林靜芬報導\\\\n\\\\n國民黨2024總統人選尚未底定，新北市長侯友宜與鴻海創辦人郭台銘實力相當，但如今傳出國民黨已內定侯出馬參選。對此，民進黨台北市議員趙怡翔在《全國第一勇》節目中表示，郭台銘現在已經亂了、急了，「因為他知道他快被做掉了！」而國民黨接下來要思考的是，「如何把郭台銘輕輕地放下，一旦放得太快、破碎了，對不起，他又再次跟你國民黨翻臉」。\\\\n\\\\n\\\\n\\\\n\\\\n\\\\n\\\\n\\\\n\\\\n\\\\n\\\\n更多新聞： 快新聞／出獄畫面曝！\\u3000趙玉柱獲假釋手比讚：非常高興\\\\n\\\\n郭台銘與侯友宜的國民黨總統參選徵召之爭，越趨白熱化。《全國第一勇》來賓趙怡翔指出，郭台銘最近拋出的許多議題，被批評欠缺周全的思考，包括「我要用AI去處理詐騙、我要用機器人去維護台灣的戰場」等等，為什麼這樣說？「因為他急了，他知道在整個過程當中已經都被內定了」。\\\\n\\\\n\\\\n\\\\n\\\\n\\\\n\\\\n\\\\n趙怡翔：侯、郭像打電動兩兄弟， 只有一個人真玩。（圖／民視新聞）\\\\n\\\\n\\\\n\\\\n\\\\n趙怡翔分析指出，郭台銘最近的處境，讓他想到網路上一張迷因哏圖，「就是兩個兄弟在打電動，兩個都打得很認真，但只有哥（侯友宜）遙控器有插進電玩裡面，弟弟（郭台銘）的是完全沒有插進去。弟弟就是在打假球，自high而已」。\\\\n\\\\n趙怡翔進一步表示：「所以我就說，只有侯友宜真的在玩，郭台銘以為他在玩，但他連插頭都沒插進去，不知道在玩什麼，但重點是，根本從頭到尾就沒有他的份，只不過還是有畫面」、「因為侯友宜也在按，就是哥哥也在按，弟弟按得很開心，以為是他在跳，但其實是哥哥在跳。」\\\\n\\\\n但郭董可以任憑國民黨愚弄嗎？趙怡翔認為，現在國民黨如果要說服大家，這個是一個公正的選舉，就應該把民調的基準、時間點拿出來，「你把到時候考慮的，不同因素跟百分比全部都拿出來，說對不起，客觀而言就是侯友宜比較強，我覺得這會買單的」，但是今天如果你是黑箱作業，說不出來任何的依據，最後就推侯友宜的話，國民黨會有麻煩。\\\\n「為什麼？你把他放得太快、 破碎了，他又再次跟你國民黨翻臉，甚至於去加入第三黨，所以國民黨現在要思考的就是，要如何把郭台銘輕輕地放下。」\\\\n\\\\n更多新聞： 賴清德新北民調超車侯友宜6％\\u3000立委分析「2關鍵」侯失去優勢\"}]'"
      ]
     },
     "execution_count": 49,
     "metadata": {},
     "output_type": "execute_result"
    }
   ],
   "source": [
    "await get_elements_tool.arun({\"selector\": \"article\"})"
   ]
  },
  {
   "cell_type": "code",
   "execution_count": 41,
   "id": "36b0773e-8fa3-478d-89fa-2fb5da6bf1cd",
   "metadata": {
    "tags": []
   },
   "outputs": [],
   "source": [
    "from langchain.tools.python.tool import PythonREPLTool\n",
    "\n",
    "python_repl_tool = PythonREPLTool()"
   ]
  },
  {
   "cell_type": "code",
   "execution_count": 44,
   "id": "2b85b858-0810-4302-ac4e-e0f6f4827da9",
   "metadata": {
    "tags": []
   },
   "outputs": [
    {
     "name": "stdout",
     "output_type": "stream",
     "text": [
      "\n",
      "\n",
      "\u001b[1m> Entering new AgentExecutor chain...\u001b[0m\n",
      "\u001b[32;1m\u001b[1;3mAction:\n",
      "```\n",
      "{\n",
      "  \"action\": \"navigate_browser\",\n",
      "  \"action_input\": {\n",
      "    \"url\": \"https://www.ftvnews.com.tw/news/detail/2023505W0297\"\n",
      "  }\n",
      "}\n",
      "```\n",
      "\n",
      "\u001b[0m\n",
      "Observation: \u001b[36;1m\u001b[1;3mNavigating to https://www.ftvnews.com.tw/news/detail/2023505W0297 returned status code 200\u001b[0m\n",
      "Thought:\u001b[32;1m\u001b[1;3mAction:\n",
      "```\n",
      "{\n",
      "  \"action\": \"get_elements\",\n",
      "  \"action_input\": {\n",
      "    \"selector\": \"article\",\n",
      "    \"attributes\": [\"innerText\"]\n",
      "  }\n",
      "}\n",
      "```\n",
      "\u001b[0m\n",
      "Observation: \u001b[33;1m\u001b[1;3m[{\"innerText\": \"\\u8d99\\u6021\\u7fd4\\u8aaa\\uff1a\\u570b\\u6c11\\u9ee8\\u982d\\u75db\\u7684\\u662f\\uff0c\\u8a72\\u5982\\u4f55\\u628a\\u90ed\\u53f0\\u9298\\u300c\\u8f15\\u8f15\\u5730\\u653e\\u4e0b\\u300d\\u3002\\n\\n\\u8ad6\\u58c7\\u4e2d\\u5fc3\\uff0f\\u6797\\u975c\\u82ac\\u5831\\u5c0e\\n\\n\\u570b\\u6c11\\u9ee82024\\u7e3d\\u7d71\\u4eba\\u9078\\u5c1a\\u672a\\u5e95\\u5b9a\\uff0c\\u65b0\\u5317\\u5e02\\u9577\\u4faf\\u53cb\\u5b9c\\u8207\\u9d3b\\u6d77\\u5275\\u8fa6\\u4eba\\u90ed\\u53f0\\u9298\\u5be6\\u529b\\u76f8\\u7576\\uff0c\\u4f46\\u5982\\u4eca\\u50b3\\u51fa\\u570b\\u6c11\\u9ee8\\u5df2\\u5167\\u5b9a\\u4faf\\u51fa\\u99ac\\u53c3\\u9078\\u3002\\u5c0d\\u6b64\\uff0c\\u6c11\\u9032\\u9ee8\\u53f0\\u5317\\u5e02\\u8b70\\u54e1\\u8d99\\u6021\\u7fd4\\u5728\\u300a\\u5168\\u570b\\u7b2c\\u4e00\\u52c7\\u300b\\u7bc0\\u76ee\\u4e2d\\u8868\\u793a\\uff0c\\u90ed\\u53f0\\u9298\\u73fe\\u5728\\u5df2\\u7d93\\u4e82\\u4e86\\u3001\\u6025\\u4e86\\uff0c\\u300c\\u56e0\\u70ba\\u4ed6\\u77e5\\u9053\\u4ed6\\u5feb\\u88ab\\u505a\\u6389\\u4e86\\uff01\\u300d\\u800c\\u570b\\u6c11\\u9ee8\\u63a5\\u4e0b\\u4f86\\u8981\\u601d\\u8003\\u7684\\u662f\\uff0c\\u300c\\u5982\\u4f55\\u628a\\u90ed\\u53f0\\u9298\\u8f15\\u8f15\\u5730\\u653e\\u4e0b\\uff0c\\u4e00\\u65e6\\u653e\\u5f97\\u592a\\u5feb\\u3001\\u7834\\u788e\\u4e86\\uff0c\\u5c0d\\u4e0d\\u8d77\\uff0c\\u4ed6\\u53c8\\u518d\\u6b21\\u8ddf\\u4f60\\u570b\\u6c11\\u9ee8\\u7ffb\\u81c9\\u300d\\u3002\\n\\n\\n\\n\\n\\n\\n\\n\\n\\n\\n\\u66f4\\u591a\\u65b0\\u805e\\uff1a \\u5feb\\u65b0\\u805e\\uff0f\\u51fa\\u7344\\u756b\\u9762\\u66dd\\uff01\\u3000\\u8d99\\u7389\\u67f1\\u7372\\u5047\\u91cb\\u624b\\u6bd4\\u8b9a\\uff1a\\u975e\\u5e38\\u9ad8\\u8208\\n\\n\\u90ed\\u53f0\\u9298\\u8207\\u4faf\\u53cb\\u5b9c\\u7684\\u570b\\u6c11\\u9ee8\\u7e3d\\u7d71\\u53c3\\u9078\\u5fb5\\u53ec\\u4e4b\\u722d\\uff0c\\u8d8a\\u8da8\\u767d\\u71b1\\u5316\\u3002\\u300a\\u5168\\u570b\\u7b2c\\u4e00\\u52c7\\u300b\\u4f86\\u8cd3\\u8d99\\u6021\\u7fd4\\u6307\\u51fa\\uff0c\\u90ed\\u53f0\\u9298\\u6700\\u8fd1\\u62cb\\u51fa\\u7684\\u8a31\\u591a\\u8b70\\u984c\\uff0c\\u88ab\\u6279\\u8a55\\u6b20\\u7f3a\\u5468\\u5168\\u7684\\u601d\\u8003\\uff0c\\u5305\\u62ec\\u300c\\u6211\\u8981\\u7528AI\\u53bb\\u8655\\u7406\\u8a50\\u9a19\\u3001\\u6211\\u8981\\u7528\\u6a5f\\u5668\\u4eba\\u53bb\\u7dad\\u8b77\\u53f0\\u7063\\u7684\\u6230\\u5834\\u300d\\u7b49\\u7b49\\uff0c\\u70ba\\u4ec0\\u9ebc\\u9019\\u6a23\\u8aaa\\uff1f\\u300c\\u56e0\\u70ba\\u4ed6\\u6025\\u4e86\\uff0c\\u4ed6\\u77e5\\u9053\\u5728\\u6574\\u500b\\u904e\\u7a0b\\u7576\\u4e2d\\u5df2\\u7d93\\u90fd\\u88ab\\u5167\\u5b9a\\u4e86\\u300d\\u3002\\n\\n\\n\\n\\n\\n\\n\\n\\u8d99\\u6021\\u7fd4\\uff1a\\u4faf\\u3001\\u90ed\\u50cf\\u6253\\u96fb\\u52d5\\u5169\\u5144\\u5f1f\\uff0c \\u53ea\\u6709\\u4e00\\u500b\\u4eba\\u771f\\u73a9\\u3002\\uff08\\u5716\\uff0f\\u6c11\\u8996\\u65b0\\u805e\\uff09\\n\\n\\n\\n\\n\\u8d99\\u6021\\u7fd4\\u5206\\u6790\\u6307\\u51fa\\uff0c\\u90ed\\u53f0\\u9298\\u6700\\u8fd1\\u7684\\u8655\\u5883\\uff0c\\u8b93\\u4ed6\\u60f3\\u5230\\u7db2\\u8def\\u4e0a\\u4e00\\u5f35\\u8ff7\\u56e0\\u54cf\\u5716\\uff0c\\u300c\\u5c31\\u662f\\u5169\\u500b\\u5144\\u5f1f\\u5728\\u6253\\u96fb\\u52d5\\uff0c\\u5169\\u500b\\u90fd\\u6253\\u5f97\\u5f88\\u8a8d\\u771f\\uff0c\\u4f46\\u53ea\\u6709\\u54e5\\uff08\\u4faf\\u53cb\\u5b9c\\uff09\\u9059\\u63a7\\u5668\\u6709\\u63d2\\u9032\\u96fb\\u73a9\\u88e1\\u9762\\uff0c\\u5f1f\\u5f1f\\uff08\\u90ed\\u53f0\\u9298\\uff09\\u7684\\u662f\\u5b8c\\u5168\\u6c92\\u6709\\u63d2\\u9032\\u53bb\\u3002\\u5f1f\\u5f1f\\u5c31\\u662f\\u5728\\u6253\\u5047\\u7403\\uff0c\\u81eahigh\\u800c\\u5df2\\u300d\\u3002\\n\\n\\u8d99\\u6021\\u7fd4\\u9032\\u4e00\\u6b65\\u8868\\u793a\\uff1a\\u300c\\u6240\\u4ee5\\u6211\\u5c31\\u8aaa\\uff0c\\u53ea\\u6709\\u4faf\\u53cb\\u5b9c\\u771f\\u7684\\u5728\\u73a9\\uff0c\\u90ed\\u53f0\\u9298\\u4ee5\\u70ba\\u4ed6\\u5728\\u73a9\\uff0c\\u4f46\\u4ed6\\u9023\\u63d2\\u982d\\u90fd\\u6c92\\u63d2\\u9032\\u53bb\\uff0c\\u4e0d\\u77e5\\u9053\\u5728\\u73a9\\u4ec0\\u9ebc\\uff0c\\u4f46\\u91cd\\u9ede\\u662f\\uff0c\\u6839\\u672c\\u5f9e\\u982d\\u5230\\u5c3e\\u5c31\\u6c92\\u6709\\u4ed6\\u7684\\u4efd\\uff0c\\u53ea\\u4e0d\\u904e\\u9084\\u662f\\u6709\\u756b\\u9762\\u300d\\u3001\\u300c\\u56e0\\u70ba\\u4faf\\u53cb\\u5b9c\\u4e5f\\u5728\\u6309\\uff0c\\u5c31\\u662f\\u54e5\\u54e5\\u4e5f\\u5728\\u6309\\uff0c\\u5f1f\\u5f1f\\u6309\\u5f97\\u5f88\\u958b\\u5fc3\\uff0c\\u4ee5\\u70ba\\u662f\\u4ed6\\u5728\\u8df3\\uff0c\\u4f46\\u5176\\u5be6\\u662f\\u54e5\\u54e5\\u5728\\u8df3\\u3002\\u300d\\n\\n\\u4f46\\u90ed\\u8463\\u53ef\\u4ee5\\u4efb\\u6191\\u570b\\u6c11\\u9ee8\\u611a\\u5f04\\u55ce\\uff1f\\u8d99\\u6021\\u7fd4\\u8a8d\\u70ba\\uff0c\\u73fe\\u5728\\u570b\\u6c11\\u9ee8\\u5982\\u679c\\u8981\\u8aaa\\u670d\\u5927\\u5bb6\\uff0c\\u9019\\u500b\\u662f\\u4e00\\u500b\\u516c\\u6b63\\u7684\\u9078\\u8209\\uff0c\\u5c31\\u61c9\\u8a72\\u628a\\u6c11\\u8abf\\u7684\\u57fa\\u6e96\\u3001\\u6642\\u9593\\u9ede\\u62ff\\u51fa\\u4f86\\uff0c\\u300c\\u4f60\\u628a\\u5230\\u6642\\u5019\\u8003\\u616e\\u7684\\uff0c\\u4e0d\\u540c\\u56e0\\u7d20\\u8ddf\\u767e\\u5206\\u6bd4\\u5168\\u90e8\\u90fd\\u62ff\\u51fa\\u4f86\\uff0c\\u8aaa\\u5c0d\\u4e0d\\u8d77\\uff0c\\u5ba2\\u89c0\\u800c\\u8a00\\u5c31\\u662f\\u4faf\\u53cb\\u5b9c\\u6bd4\\u8f03\\u5f37\\uff0c\\u6211\\u89ba\\u5f97\\u9019\\u6703\\u8cb7\\u55ae\\u7684\\u300d\\uff0c\\u4f46\\u662f\\u4eca\\u5929\\u5982\\u679c\\u4f60\\u662f\\u9ed1\\u7bb1\\u4f5c\\u696d\\uff0c\\u8aaa\\u4e0d\\u51fa\\u4f86\\u4efb\\u4f55\\u7684\\u4f9d\\u64da\\uff0c\\u6700\\u5f8c\\u5c31\\u63a8\\u4faf\\u53cb\\u5b9c\\u7684\\u8a71\\uff0c\\u570b\\u6c11\\u9ee8\\u6703\\u6709\\u9ebb\\u7169\\u3002\\n\\u300c\\u70ba\\u4ec0\\u9ebc\\uff1f\\u4f60\\u628a\\u4ed6\\u653e\\u5f97\\u592a\\u5feb\\u3001 \\u7834\\u788e\\u4e86\\uff0c\\u4ed6\\u53c8\\u518d\\u6b21\\u8ddf\\u4f60\\u570b\\u6c11\\u9ee8\\u7ffb\\u81c9\\uff0c\\u751a\\u81f3\\u65bc\\u53bb\\u52a0\\u5165\\u7b2c\\u4e09\\u9ee8\\uff0c\\u6240\\u4ee5\\u570b\\u6c11\\u9ee8\\u73fe\\u5728\\u8981\\u601d\\u8003\\u7684\\u5c31\\u662f\\uff0c\\u8981\\u5982\\u4f55\\u628a\\u90ed\\u53f0\\u9298\\u8f15\\u8f15\\u5730\\u653e\\u4e0b\\u3002\\u300d\\n\\n\\u66f4\\u591a\\u65b0\\u805e\\uff1a \\u8cf4\\u6e05\\u5fb7\\u65b0\\u5317\\u6c11\\u8abf\\u8d85\\u8eca\\u4faf\\u53cb\\u5b9c6\\uff05\\u3000\\u7acb\\u59d4\\u5206\\u6790\\u300c2\\u95dc\\u9375\\u300d\\u4faf\\u5931\\u53bb\\u512a\\u52e2\"}]\u001b[0m\n",
      "Thought:\n",
      "\u001b[1m> Finished chain.\u001b[0m\n",
      "Total Tokens: 5205\n",
      "Prompt Tokens: 4690\n",
      "Completion Tokens: 515\n",
      "Total Cost (USD): $0.010409999999999999\n",
      "本文談論了最近圍繞著2024年國民黨總統候選人的爭議。文章引用了民進黨議員邱議瑩的話，她認為應該讓韓國瑜快速下台。然而，文章也指出國民黨已經決定將韓納入初選，應該尊重黨的決定。文章還包括網民的評論，有些人批評韓國瑜最近的行為，而有些人則為他辯護。總體而言，文章暗示國民黨將韓國瑜納入初選引起了很多爭議，這個問題沒有簡單的解決方案。\n"
     ]
    }
   ],
   "source": [
    "from langchain.agents import initialize_agent, AgentType\n",
    "from langchain.chat_models.openai import ChatOpenAI\n",
    "from langchain.callbacks import get_openai_callback\n",
    "\n",
    "# llm = ChatOpenAI(model_name=\"gpt-4-0314\", temperature=0)\n",
    "llm = ChatOpenAI(temperature=0)\n",
    "\n",
    "agent_chain = initialize_agent([navigate_tool, get_elements_tool], llm, agent=AgentType.STRUCTURED_CHAT_ZERO_SHOT_REACT_DESCRIPTION, verbose=True)\n",
    "\n",
    "prompt = f\"\"\"\n",
    "1. 根據連結使用 selector: article, attributes: [innerText] 取得 innerText\n",
    "2. 以台灣慣用詞彙產生100字以內的繁體中文總結。\n",
    "\n",
    "連結：{url}\n",
    "\"\"\"\n",
    "\n",
    "with get_openai_callback() as cb:\n",
    "    result = await agent_chain.arun(prompt)\n",
    "    print(f\"Total Tokens: {cb.total_tokens}\")\n",
    "    print(f\"Prompt Tokens: {cb.prompt_tokens}\")\n",
    "    print(f\"Completion Tokens: {cb.completion_tokens}\")\n",
    "    print(f\"Total Cost (USD): ${cb.total_cost}\")\n",
    "    print(result)"
   ]
  },
  {
   "cell_type": "code",
   "execution_count": null,
   "id": "54e2b3d0-b16b-4bed-8068-ed9d04e82233",
   "metadata": {},
   "outputs": [],
   "source": []
  }
 ],
 "metadata": {
  "kernelspec": {
   "display_name": "Python 3 (ipykernel)",
   "language": "python",
   "name": "python3"
  },
  "language_info": {
   "codemirror_mode": {
    "name": "ipython",
    "version": 3
   },
   "file_extension": ".py",
   "mimetype": "text/x-python",
   "name": "python",
   "nbconvert_exporter": "python",
   "pygments_lexer": "ipython3",
   "version": "3.11.3"
  }
 },
 "nbformat": 4,
 "nbformat_minor": 5
}
